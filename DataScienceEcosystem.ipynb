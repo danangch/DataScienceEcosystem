{
  "metadata": {
    "language_info": {
      "codemirror_mode": {
        "name": "python",
        "version": 3
      },
      "file_extension": ".py",
      "mimetype": "text/x-python",
      "name": "python",
      "nbconvert_exporter": "python",
      "pygments_lexer": "ipython3",
      "version": "3.8"
    },
    "kernelspec": {
      "name": "python",
      "display_name": "Pyolite",
      "language": "python"
    }
  },
  "nbformat_minor": 4,
  "nbformat": 4,
  "cells": [
    
    {
      "cell_type": "markdown",
      "source": "# Data Science Tools and Ecosystem\n## Data Science Tools and Ecosystem\n### Data Science Tools and Ecosystem",
      "metadata": {}
    },
    {
      "cell_type": "markdown",
      "source": "# Exercise 3 - Create a markdown cell for an introduction\n***In this notebook, Data Science Tools and Ecosystem are summarized.***",
      "metadata": {}
    },
    {
      "cell_type": "markdown",
      "source": "***In this notebook, Data Science Tools and Ecosystem are summarized.***",
      "metadata": {}
    },
    
    {
      "cell_type": "markdown",
      "source": "***Objectives:***\n- Able to list the tasks that a data scientist needs to perform show how code asset management and data asset management help build models,\n- Able to describe how execution and development environments implement a model. \n\n___List popular languages for Data Science___\n- Phyton\n- SQL\n- Java\n- C++",
      "metadata": {}
    },
    
    {
      "cell_type": "markdown",
      "source": "___Some of the popular languages that Data Scientists use are:___\n1. Phyton\n2. R\n3. Julia\n4. C++\n5. java\n6. SQL",
      "metadata": {}
    },
  
    {
      "cell_type": "markdown",
      "source": "___Some of the commonly used libraries used by Data Scientists include:___\n1. Pandas, \n2. NumPy, \n3. SciPy,\n4. Matplotlib. ",
      "metadata": {}
    },
    {
      "cell_type": "markdown",
      "source": "# Exercise 6 - Create a markdown cell with a table of Data Science tools\n| No.| Data Science tools |\n| ---| ------------------ |\n| 1  | Google collabs |\n| 2  | Github |\n| 3  | Phyton |\n| 4  | MySQL, PostgreSQL, MongoDB |",
      "metadata": {}
    },
    {
      "cell_type": "markdown",
      "source": "| No.| Data Science tools |\n| ---| ------------------ |\n| 1  | Google collabs |\n| 2  | Github |\n| 3  | Phyton |\n| 4  | MySQL, PostgreSQL, MongoDB |",
      "metadata": {}
    },
    
    {
      "cell_type": "markdown",
      "source": "### Below are a few examples of evaluating arithmetic expressions in Python",
      "metadata": {}
    },

    {
      "cell_type": "code",
      "source": "(3*4)+5\n#This a simple arithmetic expression to mutiply then add integers",
      "metadata": {
        "trusted": true
      },
      "execution_count": 4,
      "outputs": [
        {
          "execution_count": 4,
          "output_type": "execute_result",
          "data": {
            "text/plain": "17"
          },
          "metadata": {}
        }
      ]
    },
    {
      "cell_type": "code",
      "source": "200/60\n#This will convert 200 minutes to hours by diving by 60",
      "metadata": {
        "trusted": true
      },
      "execution_count": 5,
      "outputs": [
        {
          "execution_count": 5,
          "output_type": "execute_result",
          "data": {
            "text/plain": "3.3333333333333335"
          },
          "metadata": {}
        }
      ]
    },
    {
      "cell_type": "code",
      "source": "# Exercise 10 - Insert a markdown cell to list Objectives",
      "metadata": {},
      "execution_count": null,
      "outputs": []
    },
    
    {
      "cell_type": "markdown",
      "source": "\n### Author\n#### Danang Choirul Abdillah ",
      "metadata": {}
    },
    {
      "cell_type": "code",
      "source": "",
      "metadata": {},
      "execution_count": null,
      "outputs": []
    }
  ]
}
